{
 "cells": [
  {
   "cell_type": "code",
   "execution_count": 5,
   "metadata": {},
   "outputs": [
    {
     "name": "stdout",
     "output_type": "stream",
     "text": [
      "MuhammadUmairAfzal\n"
     ]
    },
    {
     "data": {
      "text/plain": [
       "'MuhammadUmairAfzal'"
      ]
     },
     "execution_count": 5,
     "metadata": {},
     "output_type": "execute_result"
    }
   ],
   "source": [
    "first_name=\"Muhammad\"\n",
    "middle_name=\"Umair\"\n",
    "last_name=\"Afzal\"\n",
    "full_name=first_name+middle_name+last_name\n",
    "print(full_name)\n",
    "full_name"
   ]
  },
  {
   "cell_type": "code",
   "execution_count": 7,
   "metadata": {},
   "outputs": [
    {
     "name": "stdout",
     "output_type": "stream",
     "text": [
      "Muhammad Umair Afzal\n"
     ]
    }
   ],
   "source": [
    "first_name=\"Muhammad\"\n",
    "middle_name=\"Umair\"\n",
    "last_name=\"Afzal\"\n",
    "full_name=first_name+\" \"+middle_name+\" \"+last_name\n",
    "print(full_name)"
   ]
  },
  {
   "cell_type": "markdown",
   "metadata": {},
   "source": [
    "###  1=   ctrl+/  2=  select all the paragraph and press ' 3 times"
   ]
  },
  {
   "cell_type": "code",
   "execution_count": null,
   "metadata": {},
   "outputs": [],
   "source": [
    "# this is a comment\n",
    "# this is a comment\n",
    "# this is a comment\n",
    "# this is a comment\n",
    "# this is a comment\n",
    "\n",
    "''' this is a comment\n",
    " this is a comment\n",
    " this is a comment\n",
    " this is a comment\n",
    " this is a comment'''"
   ]
  },
  {
   "cell_type": "markdown",
   "metadata": {},
   "source": [
    "### Type Casting"
   ]
  },
  {
   "cell_type": "code",
   "execution_count": 8,
   "metadata": {},
   "outputs": [
    {
     "name": "stdout",
     "output_type": "stream",
     "text": [
      "there are200students in my class\n"
     ]
    }
   ],
   "source": [
    "# there are 200 students in my class\n",
    "numofstudents=200\n",
    "print(\"there are\"+str(numofstudents)+\"students in my class\")"
   ]
  },
  {
   "cell_type": "markdown",
   "metadata": {},
   "source": [
    "### input"
   ]
  },
  {
   "cell_type": "code",
   "execution_count": 9,
   "metadata": {},
   "outputs": [
    {
     "name": "stdout",
     "output_type": "stream",
     "text": [
      "How many students in your class?pakistan\n",
      "pakistan\n"
     ]
    }
   ],
   "source": [
    "numofstudents= input('How many students in your class?')\n",
    "print(numofstudents)"
   ]
  },
  {
   "cell_type": "markdown",
   "metadata": {},
   "source": [
    "### type casting in input"
   ]
  },
  {
   "cell_type": "code",
   "execution_count": 11,
   "metadata": {},
   "outputs": [
    {
     "name": "stdout",
     "output_type": "stream",
     "text": [
      "How many students in your class?10\n",
      "10\n"
     ]
    }
   ],
   "source": [
    "numofstudents= int(input('How many students in your class?'))\n",
    "print(numofstudents)"
   ]
  },
  {
   "cell_type": "markdown",
   "metadata": {},
   "source": [
    "### input from user & concatinate in string"
   ]
  },
  {
   "cell_type": "code",
   "execution_count": 24,
   "metadata": {},
   "outputs": [
    {
     "name": "stdout",
     "output_type": "stream",
     "text": [
      "Numbers of girls in my class?10\n",
      "Numbers of boyss in my class?20\n",
      "There are 10 girls and 20 boys in my class, Total Num of students is 30\n"
     ]
    }
   ],
   "source": [
    "# there are 10 girls and 90 boys in my class\n",
    "num1= int(input('Numbers of girls in my class?'))\n",
    "num2= int(input('Numbers of boyss in my class?'))\n",
    "total= num1+num2\n",
    "print(\"There are \"+str(num1)+ \" girls and \"+str(num2)+\" boys in my class,\", \"Total Num of students is \"+str(total))\n",
    "\n"
   ]
  },
  {
   "cell_type": "markdown",
   "metadata": {},
   "source": [
    "### Increement"
   ]
  },
  {
   "cell_type": "code",
   "execution_count": 28,
   "metadata": {},
   "outputs": [
    {
     "name": "stdout",
     "output_type": "stream",
     "text": [
      "52\n"
     ]
    }
   ],
   "source": [
    "age=50\n",
    "\n",
    "# methode 1\n",
    "age= age+1\n",
    "\n",
    "# methode 2\n",
    "age+=1\n",
    "print(age)"
   ]
  },
  {
   "cell_type": "markdown",
   "metadata": {},
   "source": [
    "### Decreement"
   ]
  },
  {
   "cell_type": "code",
   "execution_count": 29,
   "metadata": {},
   "outputs": [
    {
     "name": "stdout",
     "output_type": "stream",
     "text": [
      "48\n"
     ]
    }
   ],
   "source": [
    "age=50\n",
    "\n",
    "# methode 1\n",
    "age= age-1\n",
    "\n",
    "# methode 2\n",
    "age-=1\n",
    "print(age)"
   ]
  },
  {
   "cell_type": "markdown",
   "metadata": {},
   "source": [
    "### Multiply"
   ]
  },
  {
   "cell_type": "code",
   "execution_count": 31,
   "metadata": {},
   "outputs": [
    {
     "name": "stdout",
     "output_type": "stream",
     "text": [
      "100\n",
      "200\n"
     ]
    }
   ],
   "source": [
    "age=50\n",
    "\n",
    "# methode 1\n",
    "age= age*2\n",
    "print(age)\n",
    "\n",
    "# methode 2\n",
    "age*=2\n",
    "print(age)"
   ]
  },
  {
   "cell_type": "markdown",
   "metadata": {},
   "source": [
    "### Division is always in float type in decimal"
   ]
  },
  {
   "cell_type": "code",
   "execution_count": 32,
   "metadata": {},
   "outputs": [
    {
     "name": "stdout",
     "output_type": "stream",
     "text": [
      "25.0\n",
      "12.5\n"
     ]
    }
   ],
   "source": [
    "age=50\n",
    "\n",
    "# methode 1\n",
    "age= age/2\n",
    "print(age)\n",
    "\n",
    "# methode 2\n",
    "age/=2\n",
    "print(age)"
   ]
  },
  {
   "cell_type": "markdown",
   "metadata": {},
   "source": [
    "### Division in round"
   ]
  },
  {
   "cell_type": "code",
   "execution_count": 33,
   "metadata": {},
   "outputs": [
    {
     "name": "stdout",
     "output_type": "stream",
     "text": [
      "25\n",
      "12\n"
     ]
    }
   ],
   "source": [
    "age=50\n",
    "\n",
    "# methode 1\n",
    "age= age//2\n",
    "print(age)\n",
    "\n",
    "# methode 2\n",
    "age//=2\n",
    "print(age)"
   ]
  },
  {
   "cell_type": "markdown",
   "metadata": {},
   "source": [
    "### Division of float value"
   ]
  },
  {
   "cell_type": "code",
   "execution_count": 34,
   "metadata": {},
   "outputs": [
    {
     "name": "stdout",
     "output_type": "stream",
     "text": [
      "25.0\n",
      "12.0\n"
     ]
    }
   ],
   "source": [
    "age=50.9\n",
    "\n",
    "# methode 1\n",
    "age= age//2\n",
    "print(age)\n",
    "\n",
    "# methode 2\n",
    "age//=2\n",
    "print(age)"
   ]
  },
  {
   "cell_type": "markdown",
   "metadata": {},
   "source": [
    "### Modulus Operator (for remainder)"
   ]
  },
  {
   "cell_type": "code",
   "execution_count": 3,
   "metadata": {},
   "outputs": [
    {
     "data": {
      "text/plain": [
       "4"
      ]
     },
     "execution_count": 3,
     "metadata": {},
     "output_type": "execute_result"
    }
   ],
   "source": [
    "19%5"
   ]
  },
  {
   "cell_type": "markdown",
   "metadata": {},
   "source": [
    "### Bodmas (Brackets,of,Division,Multiply,Add,Subtract)"
   ]
  },
  {
   "cell_type": "code",
   "execution_count": 7,
   "metadata": {},
   "outputs": [
    {
     "data": {
      "text/plain": [
       "144"
      ]
     },
     "execution_count": 7,
     "metadata": {},
     "output_type": "execute_result"
    }
   ],
   "source": [
    "2+10/5*6-3"
   ]
  },
  {
   "cell_type": "code",
   "execution_count": 8,
   "metadata": {},
   "outputs": [
    {
     "data": {
      "text/plain": [
       "144"
      ]
     },
     "execution_count": 8,
     "metadata": {},
     "output_type": "execute_result"
    }
   ],
   "source": [
    "(2+2)*(3*12)"
   ]
  },
  {
   "cell_type": "code",
   "execution_count": 10,
   "metadata": {},
   "outputs": [
    {
     "data": {
      "text/plain": [
       "3"
      ]
     },
     "execution_count": 10,
     "metadata": {},
     "output_type": "execute_result"
    }
   ],
   "source": [
    "3%2+2"
   ]
  },
  {
   "cell_type": "code",
   "execution_count": null,
   "metadata": {},
   "outputs": [],
   "source": []
  }
 ],
 "metadata": {
  "kernelspec": {
   "display_name": "Python 3",
   "language": "python",
   "name": "python3"
  },
  "language_info": {
   "codemirror_mode": {
    "name": "ipython",
    "version": 3
   },
   "file_extension": ".py",
   "mimetype": "text/x-python",
   "name": "python",
   "nbconvert_exporter": "python",
   "pygments_lexer": "ipython3",
   "version": "3.7.1"
  }
 },
 "nbformat": 4,
 "nbformat_minor": 2
}
