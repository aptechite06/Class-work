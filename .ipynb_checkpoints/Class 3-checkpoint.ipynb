{
 "cells": [
  {
   "cell_type": "markdown",
   "metadata": {},
   "source": [
    "### Grade show with print"
   ]
  },
  {
   "cell_type": "code",
   "execution_count": 1,
   "metadata": {},
   "outputs": [
    {
     "name": "stdout",
     "output_type": "stream",
     "text": [
      "Enter Marks Obtained in Math20\n",
      "Enter Marks Obtained in English30\n",
      "Enter Marks Obtained in urdu30\n",
      "Enter Marks Obtained in AI60\n",
      "Enter Marks Obtained in Science44\n",
      "Fail\n"
     ]
    }
   ],
   "source": [
    "maths = int(input(\"Enter Marks Obtained in Math\"))\n",
    "english = int(input(\"Enter Marks Obtained in English\"))\n",
    "urdu = int(input(\"Enter Marks Obtained in urdu\"))\n",
    "ai = int(input(\"Enter Marks Obtained in AI\"))\n",
    "sci = int(input(\"Enter Marks Obtained in Science\"))\n",
    "total= 500\n",
    "obtainedmarks = maths+english+urdu+ai+sci\n",
    "per=obtainedmarks/total*100\n",
    "\n",
    "if per>=90:\n",
    "    print(\"A+ Grade\")\n",
    "elif per>=80:\n",
    "    print(\"A Grade\")\n",
    "elif per>=60:\n",
    "    print(\"B Grade\")\n",
    "elif per>=50:\n",
    "    print(\"C Grade\")\n",
    "else :\n",
    "    print(\"Fail\")"
   ]
  },
  {
   "cell_type": "markdown",
   "metadata": {},
   "source": [
    "### Grade show with variable"
   ]
  },
  {
   "cell_type": "code",
   "execution_count": 6,
   "metadata": {},
   "outputs": [
    {
     "name": "stdout",
     "output_type": "stream",
     "text": [
      "Enter Marks Obtained in Math66\n",
      "Enter Marks Obtained in English76\n",
      "Enter Marks Obtained in urdu76\n",
      "Enter Marks Obtained in AI77\n",
      "Enter Marks Obtained in Science87\n",
      " Total Marks :500\n",
      "Obtained Marks :382\n",
      "Your Grade is :B\n"
     ]
    }
   ],
   "source": [
    "maths = int(input(\"Enter Marks Obtained in Math\"))\n",
    "english = int(input(\"Enter Marks Obtained in English\"))\n",
    "urdu = int(input(\"Enter Marks Obtained in urdu\"))\n",
    "ai = int(input(\"Enter Marks Obtained in AI\"))\n",
    "sci = int(input(\"Enter Marks Obtained in Science\"))\n",
    "total= 500\n",
    "obtainedmarks = maths+english+urdu+ai+sci\n",
    "per=obtainedmarks/total*100\n",
    "\n",
    "grade=\"\"\n",
    "\n",
    "if per>=90:\n",
    "    grade=\"A+\"\n",
    "elif per>=80:\n",
    "    grade=\"A\"\n",
    "elif per>=60:\n",
    "    grade=\"B\"\n",
    "elif per>=50:\n",
    "    grade=\"C\"\n",
    "else :\n",
    "    print(\"Fail\")\n",
    "\n",
    "\n",
    "print(\"Total Marks :\"+str(total))\n",
    "print(\"Obtained Marks :\"+ str(obtainedmarks))\n",
    "print(\"Your Grade is :\"+ grade)"
   ]
  },
  {
   "cell_type": "markdown",
   "metadata": {},
   "source": [
    "### print in 1 line with separator or escape character"
   ]
  },
  {
   "cell_type": "code",
   "execution_count": 14,
   "metadata": {},
   "outputs": [
    {
     "name": "stdout",
     "output_type": "stream",
     "text": [
      "Enter Marks Obtained in Math3\n",
      "Enter Marks Obtained in English3\n",
      "Enter Marks Obtained in urdu3\n",
      "Enter Marks Obtained in AI3\n",
      "Enter Marks Obtained in Science3\n",
      "Total Marks : 500\n",
      "Obtained Marks : 15\n",
      "Your Percentage : Fail\n"
     ]
    }
   ],
   "source": [
    "maths = int(input(\"Enter Marks Obtained in Math\"))\n",
    "english = int(input(\"Enter Marks Obtained in English\"))\n",
    "urdu = int(input(\"Enter Marks Obtained in urdu\"))\n",
    "ai = int(input(\"Enter Marks Obtained in AI\"))\n",
    "sci = int(input(\"Enter Marks Obtained in Science\"))\n",
    "total= 500\n",
    "obtainedmarks = maths+english+urdu+ai+sci\n",
    "per=obtainedmarks/total*100\n",
    "\n",
    "grade=\"\"\n",
    "\n",
    "if per>=90:\n",
    "    grade=\"A+\"\n",
    "elif per>=80:\n",
    "    grade=\"A\"\n",
    "elif per>=60:\n",
    "    grade=\"B\"\n",
    "elif per>=50:\n",
    "    grade=\"C\"\n",
    "else :\n",
    "    grade=\"Fail\"\n",
    "    \n",
    "print(\"Total Marks : \"+str(total),\"Obtained Marks : \"+str(obtainedmarks),\"Your Percentage : \"+str(grade),sep=\"\\n\")"
   ]
  },
  {
   "cell_type": "markdown",
   "metadata": {},
   "source": [
    "### Logical Operators ( and , or )"
   ]
  },
  {
   "cell_type": "code",
   "execution_count": 27,
   "metadata": {},
   "outputs": [
    {
     "name": "stdout",
     "output_type": "stream",
     "text": [
      "and Done\n",
      "or Done\n"
     ]
    }
   ],
   "source": [
    "d=\"Pakistan\"\n",
    "e=\"India\"\n",
    "\n",
    "if 30==30 and d==d:\n",
    "   print(\"and Done\")\n",
    "if 30==30 or e==e:\n",
    "    print(\"or Done\")"
   ]
  },
  {
   "cell_type": "code",
   "execution_count": 29,
   "metadata": {
    "scrolled": true
   },
   "outputs": [
    {
     "name": "stdout",
     "output_type": "stream",
     "text": [
      "is your Name in the listyes\n",
      "Do you have ID Cardno\n",
      "You are not eligable for vote casting\n"
     ]
    }
   ],
   "source": [
    "username = input(\"is your Name in the list ?\")\n",
    "id = input(\"Do you have ID Card ?\")\n",
    "\n",
    "if username==\"yes\" and id== \"yes\":\n",
    "    print(\"You are eligable for vote casting \")\n",
    "else:\n",
    "    print(\"You are not eligable for vote casting\")\n",
    "\n"
   ]
  },
  {
   "cell_type": "markdown",
   "metadata": {},
   "source": [
    "### input Converts into upper , lower and title"
   ]
  },
  {
   "cell_type": "code",
   "execution_count": 41,
   "metadata": {},
   "outputs": [
    {
     "name": "stdout",
     "output_type": "stream",
     "text": [
      "Do you have a ticket ?yes\n",
      "What is your age ?19\n",
      "what is the day ?sunday\n",
      "Yes: we can go for shopping\n",
      "Sunday\n"
     ]
    }
   ],
   "source": [
    "ticket= input(\"Do you have a ticket ?\")\n",
    "age= int(input (\"What is your age ?\"))\n",
    "today = input (\"what is the day ?\")\n",
    "\n",
    "if ticket.lower() ==\"yes\" and age >= 18 and today.upper() ==\"SUNDAY\":\n",
    "    print(\"Yes: we can go for shopping\")\n",
    "else:\n",
    "    print(\"Sorry We can't go\")\n",
    "   \n",
    "print(today.title())"
   ]
  },
  {
   "cell_type": "markdown",
   "metadata": {},
   "source": [
    "### List"
   ]
  },
  {
   "cell_type": "code",
   "execution_count": 45,
   "metadata": {},
   "outputs": [
    {
     "data": {
      "text/plain": [
       "'Peshawer'"
      ]
     },
     "execution_count": 45,
     "metadata": {},
     "output_type": "execute_result"
    }
   ],
   "source": [
    "cities = ['Karchi','Lahore','Multan','Islamabad','Quetta','Peshawer']\n",
    "cities[5]"
   ]
  },
  {
   "cell_type": "markdown",
   "metadata": {},
   "source": [
    "### Length of list"
   ]
  },
  {
   "cell_type": "code",
   "execution_count": 46,
   "metadata": {},
   "outputs": [
    {
     "data": {
      "text/plain": [
       "6"
      ]
     },
     "execution_count": 46,
     "metadata": {},
     "output_type": "execute_result"
    }
   ],
   "source": [
    "cities = ['Karchi','Lahore','Multan','Islamabad','Quetta','Peshawer']\n",
    "len(cities)"
   ]
  },
  {
   "cell_type": "markdown",
   "metadata": {},
   "source": [
    "### Type"
   ]
  },
  {
   "cell_type": "code",
   "execution_count": 47,
   "metadata": {},
   "outputs": [
    {
     "data": {
      "text/plain": [
       "list"
      ]
     },
     "execution_count": 47,
     "metadata": {},
     "output_type": "execute_result"
    }
   ],
   "source": [
    "cities = ['Karchi','Lahore','Multan','Islamabad','Quetta','Peshawer']\n",
    "type(cities)"
   ]
  },
  {
   "cell_type": "markdown",
   "metadata": {},
   "source": [
    "### Addition or append"
   ]
  },
  {
   "cell_type": "code",
   "execution_count": 49,
   "metadata": {},
   "outputs": [
    {
     "data": {
      "text/plain": [
       "['Karchi', 'Lahore', 'Multan', 'Islamabad', 'Quetta', 'Peshawer', 'Hyderabad']"
      ]
     },
     "execution_count": 49,
     "metadata": {},
     "output_type": "execute_result"
    }
   ],
   "source": [
    "cities = ['Karchi','Lahore','Multan','Islamabad','Quetta','Peshawer']\n",
    "cities.append('Hyderabad')\n",
    "cities"
   ]
  },
  {
   "cell_type": "markdown",
   "metadata": {},
   "source": [
    "### Insert on specific location"
   ]
  },
  {
   "cell_type": "code",
   "execution_count": 50,
   "metadata": {},
   "outputs": [
    {
     "data": {
      "text/plain": [
       "['Karchi', 'Lahore', 'Hyderabad', 'Multan', 'Islamabad', 'Quetta', 'Peshawer']"
      ]
     },
     "execution_count": 50,
     "metadata": {},
     "output_type": "execute_result"
    }
   ],
   "source": [
    "cities = ['Karchi','Lahore','Multan','Islamabad','Quetta','Peshawer']\n",
    "cities.insert(2,'Hyderabad')\n",
    "cities"
   ]
  },
  {
   "cell_type": "markdown",
   "metadata": {},
   "source": [
    "### Delete "
   ]
  },
  {
   "cell_type": "code",
   "execution_count": 52,
   "metadata": {},
   "outputs": [
    {
     "data": {
      "text/plain": [
       "['Karchi', 'Lahore', 'Islamabad', 'Quetta', 'Peshawer']"
      ]
     },
     "execution_count": 52,
     "metadata": {},
     "output_type": "execute_result"
    }
   ],
   "source": [
    "cities = ['Karchi','Lahore','Multan','Islamabad','Quetta','Peshawer']\n",
    "del cities [2]\n",
    "cities"
   ]
  },
  {
   "cell_type": "markdown",
   "metadata": {},
   "source": [
    "### Replace"
   ]
  },
  {
   "cell_type": "code",
   "execution_count": 53,
   "metadata": {},
   "outputs": [
    {
     "data": {
      "text/plain": [
       "['Karchi', 'Lahore', 'Multan', 'Hyderabad', 'Quetta', 'Peshawer']"
      ]
     },
     "execution_count": 53,
     "metadata": {},
     "output_type": "execute_result"
    }
   ],
   "source": [
    "cities = ['Karchi','Lahore','Multan','Islamabad','Quetta','Peshawer']\n",
    "cities[3] = 'Hyderabad'\n",
    "cities"
   ]
  }
 ],
 "metadata": {
  "kernelspec": {
   "display_name": "Python 3",
   "language": "python",
   "name": "python3"
  },
  "language_info": {
   "codemirror_mode": {
    "name": "ipython",
    "version": 3
   },
   "file_extension": ".py",
   "mimetype": "text/x-python",
   "name": "python",
   "nbconvert_exporter": "python",
   "pygments_lexer": "ipython3",
   "version": "3.7.1"
  }
 },
 "nbformat": 4,
 "nbformat_minor": 2
}
