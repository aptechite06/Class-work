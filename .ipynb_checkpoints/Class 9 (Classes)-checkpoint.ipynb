{
 "cells": [
  {
   "cell_type": "code",
   "execution_count": 58,
   "metadata": {},
   "outputs": [
    {
     "name": "stdout",
     "output_type": "stream",
     "text": [
      "Asim is eating\n",
      "Asim is waliking\n",
      "Asim is taking medicine\n"
     ]
    }
   ],
   "source": [
    "class Patient():\n",
    "    \n",
    "    ### init = initilizer ###\n",
    "    def __init__(self,first_name,last_name,bimari,age=20): # initializer  #(dundur)\n",
    "        \n",
    "        ### Atributes or Properties ###\n",
    "        self.first_name=first_name\n",
    "        self.last_name=last_name\n",
    "        self.age=age\n",
    "        self.bimari=bimari\n",
    "        \n",
    "        ### Functionality ###\n",
    "    def walks(self):\n",
    "            print(f\"{self.first_name} is waliking\")\n",
    "    def eatsfood(self):\n",
    "            print(f\"{self.first_name} is eating\")\n",
    "    def takesmedicine(self):\n",
    "            print(f\"{self.first_name} is taking medicine\")\n",
    "patient1= Patient('Asim','Khan','Flu')\n",
    "patient1.eatsfood()\n",
    "patient1.walks()\n",
    "patient1.takesmedicine()\n"
   ]
  },
  {
   "cell_type": "code",
   "execution_count": 59,
   "metadata": {},
   "outputs": [
    {
     "name": "stdout",
     "output_type": "stream",
     "text": [
      "Asim Khan is minor\n"
     ]
    }
   ],
   "source": [
    "def sayifminor(fname,lname,age):\n",
    "    if age <21:\n",
    "        print(f\"{fname} {lname} is minor\")\n",
    "    else:\n",
    "        print(f\"{fname} {lname} is not minor\")\n",
    "sayifminor(patient1.first_name,patient1.last_name,patient1.age)"
   ]
  },
  {
   "cell_type": "code",
   "execution_count": 60,
   "metadata": {},
   "outputs": [
    {
     "name": "stdout",
     "output_type": "stream",
     "text": [
      "pain\n"
     ]
    }
   ],
   "source": [
    "def bimarikyahai(desease):\n",
    "    print(desease)\n",
    "bimarikyahai(patient1.bimari)"
   ]
  },
  {
   "cell_type": "code",
   "execution_count": 61,
   "metadata": {},
   "outputs": [
    {
     "data": {
      "text/plain": [
       "'pain'"
      ]
     },
     "execution_count": 61,
     "metadata": {},
     "output_type": "execute_result"
    }
   ],
   "source": [
    "patient1.bimari='pain'\n",
    "patient1.bimari"
   ]
  },
  {
   "cell_type": "code",
   "execution_count": null,
   "metadata": {},
   "outputs": [],
   "source": []
  },
  {
   "cell_type": "code",
   "execution_count": 67,
   "metadata": {},
   "outputs": [
    {
     "name": "stdout",
     "output_type": "stream",
     "text": [
      "tommyis now sitting\n",
      "tommyis now rolling\n"
     ]
    }
   ],
   "source": [
    "class Dog():\n",
    "    def __init__(self,name,age):\n",
    "        self.name=name\n",
    "        self.age=age\n",
    "        \n",
    "    def sit(self):\n",
    "        print(f\"{self.name}is now sitting\")\n",
    "    def rollover(self):\n",
    "        print(f\"{self.name}is now rolling\")\n",
    "        \n",
    "dog1=Dog(\"tommy\",20)\n",
    "\n",
    "dog1.sit()\n",
    "dog1.rollover()"
   ]
  },
  {
   "cell_type": "code",
   "execution_count": null,
   "metadata": {},
   "outputs": [],
   "source": []
  },
  {
   "cell_type": "code",
   "execution_count": 72,
   "metadata": {},
   "outputs": [
    {
     "name": "stdout",
     "output_type": "stream",
     "text": [
      "Pearl Continiental is now open\n",
      "Resturant name is Pearl Continiental\n"
     ]
    }
   ],
   "source": [
    "class Resturant():\n",
    "    def __init__(self,restaurant_name,cuisine_type):\n",
    "        self.restaurant_name=restaurant_name\n",
    "        self.cuisine_type=cuisine_type\n",
    "        \n",
    "    def describe_resturant(self):\n",
    "        print(f\"Resturant name is {self.restaurant_name}\")\n",
    "        \n",
    "    def open_resturant(self):\n",
    "        print(f\"{self.restaurant_name} is now open\")\n",
    "        \n",
    "resturant1=Resturant(\"Pearl Continiental\",\"Flow\")\n",
    "\n",
    "resturant1.open_resturant()\n",
    "resturant1.describe_resturant()"
   ]
  },
  {
   "cell_type": "code",
   "execution_count": 39,
   "metadata": {},
   "outputs": [
    {
     "name": "stdout",
     "output_type": "stream",
     "text": [
      "Bmw A3 2019\n",
      "Meter has been updated\n",
      "Meter has been updated\n",
      "20 liters\n"
     ]
    }
   ],
   "source": [
    "class Car():\n",
    "    \n",
    "    ### Initilizer ###\n",
    "    def __init__(self,make,model,year):\n",
    "        self.make=make\n",
    "        self.model=model\n",
    "        self.year=year\n",
    "        self.speedo_meter= 0\n",
    "        self.fuel=20\n",
    "        \n",
    "    ### get all the info ###\n",
    "    def full_description(self):\n",
    "        full_name=(f\"{self.make} {self.model} {self.year}\")\n",
    "        return full_name.title()\n",
    "    \n",
    "    ### speedo meter default ###\n",
    "    def speedometer(self):\n",
    "        return self.speedo_meter\n",
    "    \n",
    "    ### update speedo meter ###\n",
    "    def update_speedometer(self, milage):\n",
    "        if milage>=(self.speedo_meter):\n",
    "            self.speedo_meter=milage\n",
    "            print(\"Meter has been updated\")\n",
    "        else:\n",
    "            print(\"You can't roll back\")\n",
    "        \n",
    "    ### Increement ###\n",
    "    def increement_speedometer(self, miles):\n",
    "        self.speedo_meter += miles\n",
    "    \n",
    "    ### get fuel info ###\n",
    "    def get_fuel(self):\n",
    "        print(f\"{self.fuel} liters\")\n",
    "    \n",
    "    \n",
    "    \n",
    "new_car=Car(\"BMW\",\"A3\",2019)\n",
    "print(new_car.full_description())\n",
    "\n",
    "new_car.speedometer()\n",
    "new_car.update_speedometer(10)\n",
    "new_car.speedometer()\n",
    "new_car.update_speedometer(15)\n",
    "new_car.speedometer()\n",
    "\n",
    "new_car.increement_speedometer(5)\n",
    "new_car.speedometer()\n",
    "\n",
    "new_car.get_fuel()\n"
   ]
  },
  {
   "cell_type": "code",
   "execution_count": 48,
   "metadata": {},
   "outputs": [
    {
     "name": "stdout",
     "output_type": "stream",
     "text": [
      "70\n"
     ]
    }
   ],
   "source": [
    "class Elctric_Car(Car):\n",
    "    def __init__(self , make, model, year):\n",
    "        super().__init__(make,model,year)\n",
    "        self.battery=70\n",
    "        \n",
    "    def get_battery_watt(self):\n",
    "        print(self.battery)\n",
    "        \n",
    "  \n",
    "        \n",
    "\n",
    "my_tesla=Elctric_Car(\"Tesla\",\"Latest\",2019)\n",
    "\n",
    "my_tesla.get_battery_watt()\n",
    "\n",
    "\n",
    "        "
   ]
  },
  {
   "cell_type": "code",
   "execution_count": null,
   "metadata": {},
   "outputs": [],
   "source": []
  }
 ],
 "metadata": {
  "kernelspec": {
   "display_name": "Python 3",
   "language": "python",
   "name": "python3"
  },
  "language_info": {
   "codemirror_mode": {
    "name": "ipython",
    "version": 3
   },
   "file_extension": ".py",
   "mimetype": "text/x-python",
   "name": "python",
   "nbconvert_exporter": "python",
   "pygments_lexer": "ipython3",
   "version": "3.7.1"
  }
 },
 "nbformat": 4,
 "nbformat_minor": 2
}
