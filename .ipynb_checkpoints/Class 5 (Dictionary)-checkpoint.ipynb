{
 "cells": [
  {
   "cell_type": "code",
   "execution_count": 4,
   "metadata": {},
   "outputs": [
    {
     "name": "stdout",
     "output_type": "stream",
     "text": [
      "['Umair Afzal']\n",
      "['Umair Afzal', 'Umair Ahmed']\n",
      "['Umair Afzal', 'Umair Ahmed', 'Umair Shah']\n",
      "['Umair Afzal', 'Umair Ahmed', 'Umair Shah', 'Umair Khan']\n",
      "['Umair Afzal', 'Umair Ahmed', 'Umair Shah', 'Umair Khan', 'Umair Farid']\n",
      "['Umair Afzal', 'Umair Ahmed', 'Umair Shah', 'Umair Khan', 'Umair Farid', 'Ali Afzal']\n",
      "['Umair Afzal', 'Umair Ahmed', 'Umair Shah', 'Umair Khan', 'Umair Farid', 'Ali Afzal', 'Ali Ahmed']\n",
      "['Umair Afzal', 'Umair Ahmed', 'Umair Shah', 'Umair Khan', 'Umair Farid', 'Ali Afzal', 'Ali Ahmed', 'Ali Shah']\n",
      "['Umair Afzal', 'Umair Ahmed', 'Umair Shah', 'Umair Khan', 'Umair Farid', 'Ali Afzal', 'Ali Ahmed', 'Ali Shah', 'Ali Khan']\n",
      "['Umair Afzal', 'Umair Ahmed', 'Umair Shah', 'Umair Khan', 'Umair Farid', 'Ali Afzal', 'Ali Ahmed', 'Ali Shah', 'Ali Khan', 'Ali Farid']\n",
      "['Umair Afzal', 'Umair Ahmed', 'Umair Shah', 'Umair Khan', 'Umair Farid', 'Ali Afzal', 'Ali Ahmed', 'Ali Shah', 'Ali Khan', 'Ali Farid', 'Shahrez Afzal']\n",
      "['Umair Afzal', 'Umair Ahmed', 'Umair Shah', 'Umair Khan', 'Umair Farid', 'Ali Afzal', 'Ali Ahmed', 'Ali Shah', 'Ali Khan', 'Ali Farid', 'Shahrez Afzal', 'Shahrez Ahmed']\n",
      "['Umair Afzal', 'Umair Ahmed', 'Umair Shah', 'Umair Khan', 'Umair Farid', 'Ali Afzal', 'Ali Ahmed', 'Ali Shah', 'Ali Khan', 'Ali Farid', 'Shahrez Afzal', 'Shahrez Ahmed', 'Shahrez Shah']\n",
      "['Umair Afzal', 'Umair Ahmed', 'Umair Shah', 'Umair Khan', 'Umair Farid', 'Ali Afzal', 'Ali Ahmed', 'Ali Shah', 'Ali Khan', 'Ali Farid', 'Shahrez Afzal', 'Shahrez Ahmed', 'Shahrez Shah', 'Shahrez Khan']\n",
      "['Umair Afzal', 'Umair Ahmed', 'Umair Shah', 'Umair Khan', 'Umair Farid', 'Ali Afzal', 'Ali Ahmed', 'Ali Shah', 'Ali Khan', 'Ali Farid', 'Shahrez Afzal', 'Shahrez Ahmed', 'Shahrez Shah', 'Shahrez Khan', 'Shahrez Farid']\n",
      "['Umair Afzal', 'Umair Ahmed', 'Umair Shah', 'Umair Khan', 'Umair Farid', 'Ali Afzal', 'Ali Ahmed', 'Ali Shah', 'Ali Khan', 'Ali Farid', 'Shahrez Afzal', 'Shahrez Ahmed', 'Shahrez Shah', 'Shahrez Khan', 'Shahrez Farid', 'Imran Afzal']\n",
      "['Umair Afzal', 'Umair Ahmed', 'Umair Shah', 'Umair Khan', 'Umair Farid', 'Ali Afzal', 'Ali Ahmed', 'Ali Shah', 'Ali Khan', 'Ali Farid', 'Shahrez Afzal', 'Shahrez Ahmed', 'Shahrez Shah', 'Shahrez Khan', 'Shahrez Farid', 'Imran Afzal', 'Imran Ahmed']\n",
      "['Umair Afzal', 'Umair Ahmed', 'Umair Shah', 'Umair Khan', 'Umair Farid', 'Ali Afzal', 'Ali Ahmed', 'Ali Shah', 'Ali Khan', 'Ali Farid', 'Shahrez Afzal', 'Shahrez Ahmed', 'Shahrez Shah', 'Shahrez Khan', 'Shahrez Farid', 'Imran Afzal', 'Imran Ahmed', 'Imran Shah']\n",
      "['Umair Afzal', 'Umair Ahmed', 'Umair Shah', 'Umair Khan', 'Umair Farid', 'Ali Afzal', 'Ali Ahmed', 'Ali Shah', 'Ali Khan', 'Ali Farid', 'Shahrez Afzal', 'Shahrez Ahmed', 'Shahrez Shah', 'Shahrez Khan', 'Shahrez Farid', 'Imran Afzal', 'Imran Ahmed', 'Imran Shah', 'Imran Khan']\n",
      "['Umair Afzal', 'Umair Ahmed', 'Umair Shah', 'Umair Khan', 'Umair Farid', 'Ali Afzal', 'Ali Ahmed', 'Ali Shah', 'Ali Khan', 'Ali Farid', 'Shahrez Afzal', 'Shahrez Ahmed', 'Shahrez Shah', 'Shahrez Khan', 'Shahrez Farid', 'Imran Afzal', 'Imran Ahmed', 'Imran Shah', 'Imran Khan', 'Imran Farid']\n",
      "['Umair Afzal', 'Umair Ahmed', 'Umair Shah', 'Umair Khan', 'Umair Farid', 'Ali Afzal', 'Ali Ahmed', 'Ali Shah', 'Ali Khan', 'Ali Farid', 'Shahrez Afzal', 'Shahrez Ahmed', 'Shahrez Shah', 'Shahrez Khan', 'Shahrez Farid', 'Imran Afzal', 'Imran Ahmed', 'Imran Shah', 'Imran Khan', 'Imran Farid', 'Awais Afzal']\n",
      "['Umair Afzal', 'Umair Ahmed', 'Umair Shah', 'Umair Khan', 'Umair Farid', 'Ali Afzal', 'Ali Ahmed', 'Ali Shah', 'Ali Khan', 'Ali Farid', 'Shahrez Afzal', 'Shahrez Ahmed', 'Shahrez Shah', 'Shahrez Khan', 'Shahrez Farid', 'Imran Afzal', 'Imran Ahmed', 'Imran Shah', 'Imran Khan', 'Imran Farid', 'Awais Afzal', 'Awais Ahmed']\n",
      "['Umair Afzal', 'Umair Ahmed', 'Umair Shah', 'Umair Khan', 'Umair Farid', 'Ali Afzal', 'Ali Ahmed', 'Ali Shah', 'Ali Khan', 'Ali Farid', 'Shahrez Afzal', 'Shahrez Ahmed', 'Shahrez Shah', 'Shahrez Khan', 'Shahrez Farid', 'Imran Afzal', 'Imran Ahmed', 'Imran Shah', 'Imran Khan', 'Imran Farid', 'Awais Afzal', 'Awais Ahmed', 'Awais Shah']\n",
      "['Umair Afzal', 'Umair Ahmed', 'Umair Shah', 'Umair Khan', 'Umair Farid', 'Ali Afzal', 'Ali Ahmed', 'Ali Shah', 'Ali Khan', 'Ali Farid', 'Shahrez Afzal', 'Shahrez Ahmed', 'Shahrez Shah', 'Shahrez Khan', 'Shahrez Farid', 'Imran Afzal', 'Imran Ahmed', 'Imran Shah', 'Imran Khan', 'Imran Farid', 'Awais Afzal', 'Awais Ahmed', 'Awais Shah', 'Awais Khan']\n",
      "['Umair Afzal', 'Umair Ahmed', 'Umair Shah', 'Umair Khan', 'Umair Farid', 'Ali Afzal', 'Ali Ahmed', 'Ali Shah', 'Ali Khan', 'Ali Farid', 'Shahrez Afzal', 'Shahrez Ahmed', 'Shahrez Shah', 'Shahrez Khan', 'Shahrez Farid', 'Imran Afzal', 'Imran Ahmed', 'Imran Shah', 'Imran Khan', 'Imran Farid', 'Awais Afzal', 'Awais Ahmed', 'Awais Shah', 'Awais Khan', 'Awais Farid']\n"
     ]
    }
   ],
   "source": [
    "first_names=[\"Umair\",\"Ali\",\"Shahrez\",\"Imran\",\"Awais\"]\n",
    "last_names=[\"Afzal\",\"Ahmed\",\"Shah\",\"Khan\",\"Farid\"]\n",
    "full_names=[]\n",
    "for a_first_name in first_names:\n",
    "    for a_last_name in last_names:\n",
    "        full_names.append(a_first_name+\" \"+ a_last_name)\n",
    "        print (full_names)"
   ]
  },
  {
   "cell_type": "code",
   "execution_count": 7,
   "metadata": {},
   "outputs": [
    {
     "name": "stdout",
     "output_type": "stream",
     "text": [
      "2 x 1 = 2\n",
      "2 x 2 = 4\n",
      "2 x 3 = 6\n",
      "2 x 4 = 8\n",
      "2 x 5 = 10\n",
      "2 x 6 = 12\n",
      "2 x 7 = 14\n",
      "2 x 8 = 16\n",
      "2 x 9 = 18\n",
      "2 x 10 = 20\n"
     ]
    }
   ],
   "source": [
    "for num in range(1,11):\n",
    "    print(2,\"x\",num,\"=\", num*2)\n",
    "    "
   ]
  },
  {
   "cell_type": "code",
   "execution_count": 15,
   "metadata": {},
   "outputs": [
    {
     "name": "stdout",
     "output_type": "stream",
     "text": [
      "2 x 1 = 2\n",
      "2 x 2 = 4\n",
      "2 x 3 = 6\n",
      "2 x 4 = 8\n",
      "2 x 5 = 10\n",
      "2 x 6 = 12\n",
      "2 x 7 = 14\n",
      "2 x 8 = 16\n",
      "2 x 9 = 18\n",
      "2 x 10 = 20\n",
      "3 x 1 = 3\n",
      "3 x 2 = 6\n",
      "3 x 3 = 9\n",
      "3 x 4 = 12\n",
      "3 x 5 = 15\n",
      "3 x 6 = 18\n",
      "3 x 7 = 21\n",
      "3 x 8 = 24\n",
      "3 x 9 = 27\n",
      "3 x 10 = 30\n",
      "4 x 1 = 4\n",
      "4 x 2 = 8\n",
      "4 x 3 = 12\n",
      "4 x 4 = 16\n",
      "4 x 5 = 20\n",
      "4 x 6 = 24\n",
      "4 x 7 = 28\n",
      "4 x 8 = 32\n",
      "4 x 9 = 36\n",
      "4 x 10 = 40\n"
     ]
    }
   ],
   "source": [
    "for tablenum in range(2,5):\n",
    "    for num in range(1,11):\n",
    "        print(tablenum,\"x\",num,\"=\", num*tablenum)"
   ]
  },
  {
   "cell_type": "markdown",
   "metadata": {},
   "source": [
    "# Dictionary      myDict ={key:value,key:value,key:value,key:value,key:value}"
   ]
  },
  {
   "cell_type": "code",
   "execution_count": 36,
   "metadata": {},
   "outputs": [
    {
     "data": {
      "text/plain": [
       "100"
      ]
     },
     "execution_count": 36,
     "metadata": {},
     "output_type": "execute_result"
    }
   ],
   "source": [
    "### myDict ={key:value,key:value,key:value,key:value,key:value}\n",
    "myDic ={1:100,3:1000,2:100000}\n",
    "myDic[1]"
   ]
  },
  {
   "cell_type": "code",
   "execution_count": 23,
   "metadata": {},
   "outputs": [
    {
     "data": {
      "text/plain": [
       "'Sajjad'"
      ]
     },
     "execution_count": 23,
     "metadata": {},
     "output_type": "execute_result"
    }
   ],
   "source": [
    "myDic ={1:\"Sohail\",3:\"Umair\",2:\"Sajjad\"}\n",
    "myDic[2]"
   ]
  },
  {
   "cell_type": "code",
   "execution_count": 27,
   "metadata": {},
   "outputs": [
    {
     "data": {
      "text/plain": [
       "'Umair'"
      ]
     },
     "execution_count": 27,
     "metadata": {},
     "output_type": "execute_result"
    }
   ],
   "source": [
    "name=\"\"\n",
    "fulname=\"\"\n",
    "myDic ={\"name\":\"Sohail\",\"fulname\":\"Umair\",\"Class\":\"AI\"}\n",
    "myDic[\"fulname\"]"
   ]
  },
  {
   "cell_type": "code",
   "execution_count": 34,
   "metadata": {},
   "outputs": [
    {
     "data": {
      "text/plain": [
       "['Umair', 'Afzal', 'zeeshan']"
      ]
     },
     "execution_count": 34,
     "metadata": {},
     "output_type": "execute_result"
    }
   ],
   "source": [
    "name=\"\"\n",
    "fulname=\"\"\n",
    "myDic ={\"name\":\"Sohail\",\"fulname\":[\"Umair\",\"Afzal\",\"zeeshan\"],\"Class\":\"AI\"}\n",
    "myDic[\"fulname\"]"
   ]
  },
  {
   "cell_type": "code",
   "execution_count": 29,
   "metadata": {},
   "outputs": [
    {
     "name": "stdout",
     "output_type": "stream",
     "text": [
      "name Sohail\n",
      "fulname ['Umair', 'Afzal', 'zeeshan']\n",
      "Class AI\n"
     ]
    }
   ],
   "source": [
    "myDic ={\"name\":\"Sohail\",\"fulname\":[\"Umair\",\"Afzal\",\"zeeshan\"],\"Class\":\"AI\"}\n",
    "for k,v in myDic.items():\n",
    "    print(k,v)"
   ]
  },
  {
   "cell_type": "code",
   "execution_count": 37,
   "metadata": {},
   "outputs": [
    {
     "name": "stdout",
     "output_type": "stream",
     "text": [
      "name\n",
      "fulname\n",
      "Class\n"
     ]
    }
   ],
   "source": [
    "myDic ={\"name\":\"Sohail\",\"fulname\":[\"Umair\",\"Afzal\",\"zeeshan\"],\"Class\":\"AI\"}\n",
    "for key in myDic.keys():\n",
    "    print(key)"
   ]
  },
  {
   "cell_type": "code",
   "execution_count": 38,
   "metadata": {},
   "outputs": [
    {
     "name": "stdout",
     "output_type": "stream",
     "text": [
      "Sohail\n",
      "['Umair', 'Afzal', 'zeeshan']\n",
      "AI\n"
     ]
    }
   ],
   "source": [
    "myDic ={\"name\":\"Sohail\",\"fulname\":[\"Umair\",\"Afzal\",\"zeeshan\"],\"Class\":\"AI\"}\n",
    "for value in myDic.values():\n",
    "    print(value)"
   ]
  },
  {
   "cell_type": "code",
   "execution_count": 47,
   "metadata": {},
   "outputs": [
    {
     "name": "stdout",
     "output_type": "stream",
     "text": [
      "key  name Value  Sohail\n",
      "key  fulname Value  ['Umair', 'Afzal', 'zeeshan']\n",
      "key  Class Value  AI\n"
     ]
    }
   ],
   "source": [
    "myDic ={\"name\":\"Sohail\",\"fulname\":[\"Umair\",\"Afzal\",\"zeeshan\"],\"Class\":\"AI\"}\n",
    "for k,v in myDic.items():\n",
    "    print(\"key  \" +str(k)+ \" Value  \" +str(v))"
   ]
  },
  {
   "cell_type": "code",
   "execution_count": 54,
   "metadata": {},
   "outputs": [
    {
     "data": {
      "text/plain": [
       "{'name': 'Ali', 'fulname': 'Umair', 'Class': 'AI'}"
      ]
     },
     "execution_count": 54,
     "metadata": {},
     "output_type": "execute_result"
    }
   ],
   "source": [
    "myDic ={\"name\":\"Sohail\",\"fulname\":\"Umair\",\"Class\":\"AI\"}\n",
    "myDic[\"name\"]=\"Ali\" ## Replace name\n",
    "myDic"
   ]
  },
  {
   "cell_type": "code",
   "execution_count": 55,
   "metadata": {},
   "outputs": [
    {
     "data": {
      "text/plain": [
       "{'name': 'Sohail', 'fulname': 'Umair', 'Class': 'AI', 'Classroom': 'Axiom'}"
      ]
     },
     "execution_count": 55,
     "metadata": {},
     "output_type": "execute_result"
    }
   ],
   "source": [
    "myDic ={\"name\":\"Sohail\",\"fulname\":\"Umair\",\"Class\":\"AI\"}\n",
    "myDic[\"Classroom\"]=\"Axiom\" ## add key and value\n",
    "myDic"
   ]
  },
  {
   "cell_type": "code",
   "execution_count": 57,
   "metadata": {},
   "outputs": [
    {
     "data": {
      "text/plain": [
       "{'hello': 'Axiom'}"
      ]
     },
     "execution_count": 57,
     "metadata": {},
     "output_type": "execute_result"
    }
   ],
   "source": [
    "myDic ={}\n",
    "myDic[\"hello\"]=\"Axiom\" ## add key and value\n",
    "myDic"
   ]
  },
  {
   "cell_type": "code",
   "execution_count": 63,
   "metadata": {},
   "outputs": [
    {
     "data": {
      "text/plain": [
       "'Android'"
      ]
     },
     "execution_count": 63,
     "metadata": {},
     "output_type": "execute_result"
    }
   ],
   "source": [
    "mydic={1:100,\"names\":[\"Umair\",\"Afzal\",\"Ali\",\"saad\",\"Uzair\"],\"class\":[\"AI\",\"Web\",\"Android\",\"Designing\",\"Accounting\"]}\n",
    "mydic[\"class\"][2]"
   ]
  },
  {
   "cell_type": "code",
   "execution_count": 68,
   "metadata": {},
   "outputs": [
    {
     "data": {
      "text/plain": [
       "'Math'"
      ]
     },
     "execution_count": 68,
     "metadata": {},
     "output_type": "execute_result"
    }
   ],
   "source": [
    "mylist=[{\"names\":\"Hello World\",\"class\":\"AI\"},{\"names\":\"Global\",\"class\":\"Designing\"},{\"names\":\"Jenifer\",\"class\":\"Math\"}]\n",
    "mylist[2][\"class\"]"
   ]
  },
  {
   "cell_type": "code",
   "execution_count": null,
   "metadata": {},
   "outputs": [],
   "source": []
  }
 ],
 "metadata": {
  "kernelspec": {
   "display_name": "Python 3",
   "language": "python",
   "name": "python3"
  },
  "language_info": {
   "codemirror_mode": {
    "name": "ipython",
    "version": 3
   },
   "file_extension": ".py",
   "mimetype": "text/x-python",
   "name": "python",
   "nbconvert_exporter": "python",
   "pygments_lexer": "ipython3",
   "version": "3.7.1"
  }
 },
 "nbformat": 4,
 "nbformat_minor": 2
}
