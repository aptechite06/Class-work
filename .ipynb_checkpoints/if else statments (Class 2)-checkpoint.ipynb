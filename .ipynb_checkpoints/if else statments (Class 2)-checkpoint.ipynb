{
 "cells": [
  {
   "cell_type": "markdown",
   "metadata": {},
   "source": [
    "### if veriable==desire condition:\n",
    "   ###        (body)\n",
    "### else:\n",
    "   ### (body)"
   ]
  },
  {
   "cell_type": "markdown",
   "metadata": {},
   "source": [
    "### even odd prograam "
   ]
  },
  {
   "cell_type": "code",
   "execution_count": 8,
   "metadata": {},
   "outputs": [
    {
     "name": "stdout",
     "output_type": "stream",
     "text": [
      "Enter the num25\n",
      "Number is odd\n"
     ]
    }
   ],
   "source": [
    "num=int(input(\"Enter the num\"))\n",
    "result= num%2\n",
    "if result==0:\n",
    "    print(\"Number is even\")\n",
    "else:\n",
    "    print(\"Number is odd\")"
   ]
  },
  {
   "cell_type": "code",
   "execution_count": 13,
   "metadata": {},
   "outputs": [
    {
     "name": "stdout",
     "output_type": "stream",
     "text": [
      "Enter first number2\n",
      "Enter second number 3\n",
      "Number1 is less than number2\n"
     ]
    }
   ],
   "source": [
    "num1= int(input(\"Enter first number\"))\n",
    "num2= int(input(\"Enter second number \"))\n",
    "\n",
    "if num1==num2:\n",
    "    print(\"Number1 is equal to number2\")\n",
    "elif num1>num2:\n",
    "    print(\"Number1 is grater than number2\")\n",
    "elif num1<num2:\n",
    "    print(\"Number1 is less than number2\")"
   ]
  },
  {
   "cell_type": "code",
   "execution_count": null,
   "metadata": {},
   "outputs": [],
   "source": []
  }
 ],
 "metadata": {
  "kernelspec": {
   "display_name": "Python 3",
   "language": "python",
   "name": "python3"
  },
  "language_info": {
   "codemirror_mode": {
    "name": "ipython",
    "version": 3
   },
   "file_extension": ".py",
   "mimetype": "text/x-python",
   "name": "python",
   "nbconvert_exporter": "python",
   "pygments_lexer": "ipython3",
   "version": "3.7.1"
  }
 },
 "nbformat": 4,
 "nbformat_minor": 2
}
