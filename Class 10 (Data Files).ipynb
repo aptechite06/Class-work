{
 "cells": [
  {
   "cell_type": "markdown",
   "metadata": {},
   "source": [
    "### create and write in the file"
   ]
  },
  {
   "cell_type": "code",
   "execution_count": 31,
   "metadata": {},
   "outputs": [],
   "source": [
    "with open(\"myfile\",\"w\") as file:\n",
    "    file.write(\"Hello the world of AI\")"
   ]
  },
  {
   "cell_type": "markdown",
   "metadata": {},
   "source": [
    "### append the text avoid the overwrite"
   ]
  },
  {
   "cell_type": "code",
   "execution_count": 32,
   "metadata": {},
   "outputs": [],
   "source": [
    "with open(\"myfile\",\"a\") as file:\n",
    "    file.write(\"Hello AXIOM\")"
   ]
  },
  {
   "cell_type": "markdown",
   "metadata": {},
   "source": [
    "### Read the text from file"
   ]
  },
  {
   "cell_type": "code",
   "execution_count": 33,
   "metadata": {},
   "outputs": [
    {
     "name": "stdout",
     "output_type": "stream",
     "text": [
      "Hello the world of AIHello AXIOM\n"
     ]
    }
   ],
   "source": [
    "with open(\"myfile.txt\",\"r\") as file:\n",
    "    text=file.read()\n",
    "    print(text)\n",
    "    "
   ]
  },
  {
   "cell_type": "markdown",
   "metadata": {},
   "source": [
    "### Read Write Mode"
   ]
  },
  {
   "cell_type": "code",
   "execution_count": 44,
   "metadata": {},
   "outputs": [
    {
     "name": "stdout",
     "output_type": "stream",
     "text": [
      "\n"
     ]
    }
   ],
   "source": [
    "with open (\"readwrite.txt\",\"r+\") as f:\n",
    "    f.write(\"this is our class\")\n",
    "    print(f.read(0))"
   ]
  },
  {
   "cell_type": "code",
   "execution_count": 51,
   "metadata": {},
   "outputs": [],
   "source": [
    "with open(\"myfile.doc\",\"w\") as file:\n",
    "    file.write(\"AI is future /n\")"
   ]
  },
  {
   "cell_type": "code",
   "execution_count": 60,
   "metadata": {},
   "outputs": [],
   "source": [
    "with open(\"myfile.doc\",\"a\") as file:\n",
    "    file.write(\"row 1 \\n\")\n",
    "    file.write(\"row 2 \\n\")\n",
    "    file.write(\"row 3 \\n\")"
   ]
  },
  {
   "cell_type": "markdown",
   "metadata": {},
   "source": [
    "### get lines with for loop"
   ]
  },
  {
   "cell_type": "code",
   "execution_count": 61,
   "metadata": {},
   "outputs": [
    {
     "name": "stdout",
     "output_type": "stream",
     "text": [
      "\n",
      "\n",
      "row 1 \n",
      "\n",
      "row 2 \n",
      "\n",
      "row 3 \n",
      "\n"
     ]
    }
   ],
   "source": [
    "with open(\"myfile.doc\") as file:\n",
    "    for line in file:\n",
    "        print(line)"
   ]
  },
  {
   "cell_type": "code",
   "execution_count": 85,
   "metadata": {},
   "outputs": [],
   "source": [
    "with open(\"maxnum\",\"w\") as file:\n",
    "    file.write(\"12345678899767456456456345467678768768567564352345346457656765567456345343254657567567856879756456345436345756767566575654656346436767567658563453453454\")"
   ]
  },
  {
   "cell_type": "code",
   "execution_count": 87,
   "metadata": {},
   "outputs": [
    {
     "name": "stdout",
     "output_type": "stream",
     "text": [
      "12345678899767456456456345467678768768567564352345.....\n",
      "152\n"
     ]
    }
   ],
   "source": [
    "with open(\"maxnum\",\"r\") as file:\n",
    "    pi_string=''\n",
    "    for x in file:\n",
    "        pi_string+=x.strip()\n",
    "        print(pi_string[:50] + '.....')\n",
    "        print(len(pi_string))\n",
    "    "
   ]
  },
  {
   "cell_type": "code",
   "execution_count": null,
   "metadata": {},
   "outputs": [],
   "source": []
  }
 ],
 "metadata": {
  "kernelspec": {
   "display_name": "Python 3",
   "language": "python",
   "name": "python3"
  },
  "language_info": {
   "codemirror_mode": {
    "name": "ipython",
    "version": 3
   },
   "file_extension": ".py",
   "mimetype": "text/x-python",
   "name": "python",
   "nbconvert_exporter": "python",
   "pygments_lexer": "ipython3",
   "version": "3.7.1"
  }
 },
 "nbformat": 4,
 "nbformat_minor": 2
}
