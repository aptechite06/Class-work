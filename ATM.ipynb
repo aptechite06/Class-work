{
 "cells": [
  {
   "cell_type": "code",
   "execution_count": 4,
   "metadata": {},
   "outputs": [
    {
     "name": "stdout",
     "output_type": "stream",
     "text": [
      "----- ATM -----\n",
      "Enter Your Pin Code : 1234\n",
      "---- Account Acceeded ----\n",
      "Press 1 for Cash Deposite\n",
      "Press 2 for cash withdraw\n",
      "Press 3 for Check your balance\n",
      "Press 0 for Exit\n",
      "Enter Your Choice : 1\n",
      "---- You Want to Deposit Cash ----\n",
      "Your Account balance is : 1000\n",
      "Enter The Amount : 400\n",
      "You have successfully deposit the amount : 400\n",
      "Your New Balance is : 1400\n"
     ]
    }
   ],
   "source": [
    "print(\"----- ATM -----\")\n",
    "pin = 1234\n",
    "deposit= 0\n",
    "balance= 1000\n",
    "\n",
    "userpin= int(input(\"Enter Your Pin Code : \"))\n",
    "\n",
    "if userpin==pin:\n",
    "    \n",
    "    print(\"---- Account Acceeded ----\",\"Press 1 for Cash Deposite\",\"Press 2 for cash withdraw\",\"Press 3 for Check your balance\",\"Press 0 for Exit\", sep=\"\\n\")\n",
    "    \n",
    "    press = int(input(\"Enter Your Choice : \"))\n",
    "    if press == 1:\n",
    "        print(\"---- You Want to Deposit Cash ----\")\n",
    "        print(\"Your Account balance is : \"+ str(balance))\n",
    "        deposit=int(input(\"Enter The Amount : \"))\n",
    "        balance= balance+deposit\n",
    "        print(\"You have successfully deposit the amount : \" +str(deposit))\n",
    "        print(\"Your New Balance is : \" + str(balance))\n",
    "    elif press== 2:\n",
    "        print(\"---- You Want to Withdraw Your Money ----\")\n",
    "        print(\"Your Account balance is : \"+ str(balance))\n",
    "        withdraw = int(input(\"Enter Your amount : \"))\n",
    "        if withdraw>balance:\n",
    "            print(\"Withdrawal Amount is greater then your account balance \")\n",
    "        else:\n",
    "            balance=balance-withdraw\n",
    "            print(\"You have successfully withdraw the amount : \" +str(withdraw))\n",
    "            print(\"Your Remaining Balnace is : \"+ str(balance))\n",
    "    elif press== 3:\n",
    "        print(\"---- You Want to check your account Balance ----\")\n",
    "        print(\"Your Account Balance is : \" + str(balance))\n",
    "    elif press == 0:\n",
    "        print(\" Thanks for visiting ...\")\n",
    "    else:\n",
    "        print (\" Wrong Choice\")\n",
    "        \n",
    "        \n",
    "else:\n",
    "    print(\" Wrong Pin code \")\n",
    "    \n"
   ]
  },
  {
   "cell_type": "code",
   "execution_count": null,
   "metadata": {},
   "outputs": [],
   "source": []
  },
  {
   "cell_type": "code",
   "execution_count": null,
   "metadata": {},
   "outputs": [],
   "source": []
  }
 ],
 "metadata": {
  "kernelspec": {
   "display_name": "Python 3",
   "language": "python",
   "name": "python3"
  },
  "language_info": {
   "codemirror_mode": {
    "name": "ipython",
    "version": 3
   },
   "file_extension": ".py",
   "mimetype": "text/x-python",
   "name": "python",
   "nbconvert_exporter": "python",
   "pygments_lexer": "ipython3",
   "version": "3.7.1"
  }
 },
 "nbformat": 4,
 "nbformat_minor": 2
}
