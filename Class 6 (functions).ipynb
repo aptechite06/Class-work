{
 "cells": [
  {
   "cell_type": "markdown",
   "metadata": {},
   "source": [
    "# Define Function"
   ]
  },
  {
   "cell_type": "code",
   "execution_count": 1,
   "metadata": {},
   "outputs": [
    {
     "name": "stdout",
     "output_type": "stream",
     "text": [
      "Pakistan\n"
     ]
    }
   ],
   "source": [
    "def abc():\n",
    "    print(\"Pakistan\")\n",
    "\n",
    "abc()"
   ]
  },
  {
   "cell_type": "code",
   "execution_count": 10,
   "metadata": {},
   "outputs": [],
   "source": [
    "def add():\n",
    "    a=10\n",
    "    b=20\n",
    "    c=a+b\n",
    "    return c\n",
    "    \n",
    "d = add()\n",
    "    "
   ]
  },
  {
   "cell_type": "code",
   "execution_count": 19,
   "metadata": {},
   "outputs": [
    {
     "name": "stdout",
     "output_type": "stream",
     "text": [
      "1200\n"
     ]
    }
   ],
   "source": [
    "def multi():\n",
    "    global a\n",
    "    global b\n",
    "    global c\n",
    "    a = 40\n",
    "    b=30\n",
    "    c=a*b\n",
    "    return c\n",
    "\n",
    "d=multi()\n",
    "print(c)"
   ]
  },
  {
   "cell_type": "markdown",
   "metadata": {},
   "source": [
    "### Global veriable in a function"
   ]
  },
  {
   "cell_type": "code",
   "execution_count": 2,
   "metadata": {},
   "outputs": [
    {
     "name": "stdout",
     "output_type": "stream",
     "text": [
      "First Value: 500\n",
      "Last Value : 45\n",
      "22500\n"
     ]
    }
   ],
   "source": [
    "def multi():\n",
    "    global a\n",
    "    global b\n",
    "    global c\n",
    "    a = int(input(\"First Value: \"))\n",
    "    b = int(input(\"Last Value : \"))\n",
    "    c = a*b\n",
    "    return c\n",
    "\n",
    "d=multi()\n",
    "print(c)"
   ]
  },
  {
   "cell_type": "markdown",
   "metadata": {},
   "source": [
    "### positioning arguments"
   ]
  },
  {
   "cell_type": "code",
   "execution_count": 4,
   "metadata": {},
   "outputs": [
    {
     "name": "stdout",
     "output_type": "stream",
     "text": [
      "300\n"
     ]
    }
   ],
   "source": [
    "def add_two_num(a,b):\n",
    "    c=a+b\n",
    "    return c\n",
    "\n",
    "ans=add_two_num(100,200)\n",
    "print(ans)"
   ]
  },
  {
   "cell_type": "markdown",
   "metadata": {},
   "source": [
    "### Kerword Argument"
   ]
  },
  {
   "cell_type": "code",
   "execution_count": 16,
   "metadata": {},
   "outputs": [
    {
     "name": "stdout",
     "output_type": "stream",
     "text": [
      "Husband: bill wife: zalda\n",
      "Husband: zalda wife: bill\n",
      "Husband: bill wife: zalda\n"
     ]
    }
   ],
   "source": [
    "def couple_name(husband,wife):\n",
    "    print(\"Husband: \"+ husband,\"wife: \"+ wife)\n",
    "   \n",
    "\n",
    "ans=couple_name(\"bill\",\"zalda\")\n",
    "ans=couple_name(\"zalda\",\"bill\")\n",
    "ans=couple_name(wife=\"zalda\",husband=\"bill\")\n"
   ]
  },
  {
   "cell_type": "code",
   "execution_count": 23,
   "metadata": {},
   "outputs": [
    {
     "data": {
      "text/plain": [
       "1"
      ]
     },
     "execution_count": 23,
     "metadata": {},
     "output_type": "execute_result"
    }
   ],
   "source": [
    "def subs (a=0,b=0,c=0):\n",
    "    return a+b-c\n",
    "subs(3,5,7)"
   ]
  },
  {
   "cell_type": "markdown",
   "metadata": {},
   "source": [
    "### Positional & keywords mixing"
   ]
  },
  {
   "cell_type": "code",
   "execution_count": 37,
   "metadata": {},
   "outputs": [
    {
     "name": "stdout",
     "output_type": "stream",
     "text": [
      "Husband: bill wife: zalda Baby: random boy: Laga\n"
     ]
    }
   ],
   "source": [
    "def name(wife,husband,baby,boy):\n",
    "    print(\"Husband: \"+ husband,\"wife: \"+ wife,\"Baby: \"+ baby,\"boy: \"+ boy)\n",
    "ans=name(\"zalda\",\"bill\",boy=\"Laga\", baby=\"random\")"
   ]
  },
  {
   "cell_type": "code",
   "execution_count": null,
   "metadata": {},
   "outputs": [],
   "source": []
  }
 ],
 "metadata": {
  "kernelspec": {
   "display_name": "Python 3",
   "language": "python",
   "name": "python3"
  },
  "language_info": {
   "codemirror_mode": {
    "name": "ipython",
    "version": 3
   },
   "file_extension": ".py",
   "mimetype": "text/x-python",
   "name": "python",
   "nbconvert_exporter": "python",
   "pygments_lexer": "ipython3",
   "version": "3.7.1"
  }
 },
 "nbformat": 4,
 "nbformat_minor": 2
}
