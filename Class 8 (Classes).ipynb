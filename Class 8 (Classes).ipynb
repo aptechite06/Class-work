{
 "cells": [
  {
   "cell_type": "code",
   "execution_count": 2,
   "metadata": {},
   "outputs": [
    {
     "name": "stdout",
     "output_type": "stream",
     "text": [
      "1\n",
      "2\n",
      "3\n",
      "4\n",
      "5\n",
      "6\n",
      "7\n",
      "8\n",
      "9\n"
     ]
    },
    {
     "data": {
      "text/plain": [
       "9"
      ]
     },
     "execution_count": 2,
     "metadata": {},
     "output_type": "execute_result"
    }
   ],
   "source": [
    "for i in range(1,10):\n",
    "    print (i)\n",
    "\n",
    "i"
   ]
  },
  {
   "cell_type": "code",
   "execution_count": 24,
   "metadata": {},
   "outputs": [
    {
     "name": "stdout",
     "output_type": "stream",
     "text": [
      "['Umair', 'Afzla', 'Ali', 'Shafique', 'Ahmed']\n"
     ]
    }
   ],
   "source": [
    "mylist=['Umair','Afzla','Ali']\n",
    "\n",
    "mylist.extend(['Shafique','Ahmed'])\n",
    "print(mylist)"
   ]
  },
  {
   "cell_type": "code",
   "execution_count": 25,
   "metadata": {},
   "outputs": [
    {
     "name": "stdout",
     "output_type": "stream",
     "text": [
      "[1, 2, 3, 4]\n"
     ]
    }
   ],
   "source": [
    "mylist1=[1,2,3,4]\n",
    "\n",
    "print(mylist1)"
   ]
  },
  {
   "cell_type": "code",
   "execution_count": 27,
   "metadata": {},
   "outputs": [
    {
     "data": {
      "text/plain": [
       "1"
      ]
     },
     "execution_count": 27,
     "metadata": {},
     "output_type": "execute_result"
    }
   ],
   "source": [
    "mylist.count('Umair')"
   ]
  },
  {
   "cell_type": "code",
   "execution_count": 13,
   "metadata": {},
   "outputs": [
    {
     "name": "stdout",
     "output_type": "stream",
     "text": [
      "Enter name :  ALI \n",
      "Original name :   ALI \n",
      "Stripped name :  ALI\n",
      "Lowered name:  ali\n",
      "Please come in\n"
     ]
    }
   ],
   "source": [
    "name='ali'\n",
    "yourname=input(\"Enter name : \")\n",
    "print('Original name : ',yourname)\n",
    "\n",
    "strippedname=yourname.strip()\n",
    "print('Stripped name : ',strippedname)\n",
    "\n",
    "loweredname=strippedname.lower()\n",
    "print('Lowered name: ',loweredname)\n",
    "\n",
    "if name==loweredname:\n",
    "    print('Please come in')\n",
    "    "
   ]
  },
  {
   "cell_type": "code",
   "execution_count": 16,
   "metadata": {},
   "outputs": [
    {
     "name": "stdout",
     "output_type": "stream",
     "text": [
      "nerrow intelligence\n"
     ]
    }
   ],
   "source": [
    "myclass = 'artificial intelligence'\n",
    "\n",
    "replaceclass=myclass.replace('artificial','nerrow')\n",
    "print(replaceclass)"
   ]
  },
  {
   "cell_type": "code",
   "execution_count": 20,
   "metadata": {},
   "outputs": [
    {
     "name": "stdout",
     "output_type": "stream",
     "text": [
      "Enter the nameali\n",
      "Enter the nameasad\n",
      "my friends are ali and asad\n"
     ]
    }
   ],
   "source": [
    "friend1= input('Enter the name')\n",
    "friend2= input('Enter the name')\n",
    "print('my friends are {} and {}'.format(friend1,friend2))"
   ]
  },
  {
   "cell_type": "code",
   "execution_count": 21,
   "metadata": {},
   "outputs": [
    {
     "name": "stdout",
     "output_type": "stream",
     "text": [
      "Enter the nameali\n",
      "Enter the nameasim\n",
      "my friends are ali and asim\n"
     ]
    }
   ],
   "source": [
    "friend1= input('Enter the name')\n",
    "friend2= input('Enter the name')\n",
    "print(f'my friends are {friend1} and {friend2}')"
   ]
  },
  {
   "cell_type": "code",
   "execution_count": 26,
   "metadata": {},
   "outputs": [
    {
     "name": "stdout",
     "output_type": "stream",
     "text": [
      "a is 123 b is 456 and c is 789\n"
     ]
    }
   ],
   "source": [
    "d={'a':123,'b':456,'c':789}\n",
    "print(f\"a is {d['a']} b is {d['b']} and c is {d['c']}\")"
   ]
  },
  {
   "cell_type": "code",
   "execution_count": 32,
   "metadata": {},
   "outputs": [
    {
     "name": "stdout",
     "output_type": "stream",
     "text": [
      "0 is  123 1 is  456 2 is  789\n"
     ]
    }
   ],
   "source": [
    "mylist=[123,456,789]\n",
    "print(\"0 is \",mylist[0],\"1 is \",mylist[1],\"2 is \", mylist[2])"
   ]
  },
  {
   "cell_type": "code",
   "execution_count": 35,
   "metadata": {},
   "outputs": [
    {
     "name": "stdout",
     "output_type": "stream",
     "text": [
      "0 is 123 1 is 456 2 is 789\n"
     ]
    }
   ],
   "source": [
    "mylist=[123,456,789]\n",
    "print(f\"0 is {mylist[0]} 1 is {mylist[1]} 2 is {mylist[2]}\")"
   ]
  },
  {
   "cell_type": "code",
   "execution_count": 36,
   "metadata": {},
   "outputs": [
    {
     "data": {
      "text/plain": [
       "[('Author', 'topic', 'pages'),\n",
       " ('Umair', 'AI', '200'),\n",
       " ('Ali', 'Physics', '300'),\n",
       " ('Asim', 'Math', '550')]"
      ]
     },
     "execution_count": 36,
     "metadata": {},
     "output_type": "execute_result"
    }
   ],
   "source": [
    "library =[('Author','topic','pages'),('Umair','AI','200'),('Ali','Physics','300'),('Asim','Math','550'),]\n",
    "library"
   ]
  },
  {
   "cell_type": "code",
   "execution_count": 44,
   "metadata": {},
   "outputs": [
    {
     "name": "stdout",
     "output_type": "stream",
     "text": [
      "Author topic pages\n",
      "Umair AI 200\n",
      "Ali Physics 300\n",
      "Asim Math 550\n"
     ]
    }
   ],
   "source": [
    "for author,topic,pages in library:\n",
    "    print(f\"{author} {topic} {pages}\")"
   ]
  },
  {
   "cell_type": "code",
   "execution_count": 51,
   "metadata": {},
   "outputs": [
    {
     "name": "stdout",
     "output_type": "stream",
     "text": [
      "Author               topic                -----pages\n",
      "Umair                AI                   -------200\n",
      "Ali                  Physics              -------300\n",
      "Asim                 Math                 -------550\n"
     ]
    }
   ],
   "source": [
    "for author,topic,pages in library:\n",
    "    print(f\"{author:{20}} {topic:{20}} {pages:->{10}}\")"
   ]
  },
  {
   "cell_type": "code",
   "execution_count": null,
   "metadata": {},
   "outputs": [],
   "source": []
  },
  {
   "cell_type": "code",
   "execution_count": null,
   "metadata": {},
   "outputs": [],
   "source": []
  },
  {
   "cell_type": "code",
   "execution_count": null,
   "metadata": {},
   "outputs": [],
   "source": []
  }
 ],
 "metadata": {
  "kernelspec": {
   "display_name": "Python 3",
   "language": "python",
   "name": "python3"
  },
  "language_info": {
   "codemirror_mode": {
    "name": "ipython",
    "version": 3
   },
   "file_extension": ".py",
   "mimetype": "text/x-python",
   "name": "python",
   "nbconvert_exporter": "python",
   "pygments_lexer": "ipython3",
   "version": "3.7.1"
  }
 },
 "nbformat": 4,
 "nbformat_minor": 2
}
