{
 "cells": [
  {
   "cell_type": "markdown",
   "metadata": {},
   "source": [
    "### Decreement"
   ]
  },
  {
   "cell_type": "code",
   "execution_count": 1,
   "metadata": {},
   "outputs": [
    {
     "name": "stdout",
     "output_type": "stream",
     "text": [
      "10 aaaaaa\n",
      "9 aaaaaa\n",
      "8 aaaaaa\n",
      "7 aaaaaa\n",
      "6 aaaaaa\n",
      "5 aaaaaa\n",
      "4 aaaaaa\n",
      "3 aaaaaa\n",
      "2 aaaaaa\n",
      "1 aaaaaa\n",
      "0 aaaaaa\n"
     ]
    }
   ],
   "source": [
    "a=10\n",
    "while a>=0:\n",
    "    print(a,\"aaaaaa\")\n",
    "    a-=1"
   ]
  },
  {
   "cell_type": "markdown",
   "metadata": {},
   "source": [
    "### increement"
   ]
  },
  {
   "cell_type": "code",
   "execution_count": 2,
   "metadata": {},
   "outputs": [
    {
     "name": "stdout",
     "output_type": "stream",
     "text": [
      "0 aaaaaa\n",
      "1 aaaaaa\n",
      "2 aaaaaa\n",
      "3 aaaaaa\n",
      "4 aaaaaa\n",
      "5 aaaaaa\n",
      "6 aaaaaa\n",
      "7 aaaaaa\n",
      "8 aaaaaa\n",
      "9 aaaaaa\n",
      "10 aaaaaa\n"
     ]
    }
   ],
   "source": [
    "a=0\n",
    "while a<=10:\n",
    "    print(a,\"aaaaaa\")\n",
    "    a+=1"
   ]
  },
  {
   "cell_type": "markdown",
   "metadata": {},
   "source": [
    "### Continue"
   ]
  },
  {
   "cell_type": "code",
   "execution_count": 1,
   "metadata": {},
   "outputs": [
    {
     "name": "stdout",
     "output_type": "stream",
     "text": [
      "1 aaaaaa\n",
      "2 aaaaaa\n",
      "3 aaaaaa\n",
      "4 aaaaaa\n",
      "5 aaaaaa\n",
      "7 aaaaaa\n",
      "8 aaaaaa\n",
      "9 aaaaaa\n",
      "10 aaaaaa\n",
      "11 aaaaaa\n"
     ]
    }
   ],
   "source": [
    "a=0\n",
    "while a<=10:\n",
    "    a+=1\n",
    "    if a==6:\n",
    "        continue\n",
    "    print(a,\"aaaaaa\")\n",
    "    "
   ]
  },
  {
   "cell_type": "markdown",
   "metadata": {},
   "source": [
    "### Break"
   ]
  },
  {
   "cell_type": "code",
   "execution_count": 4,
   "metadata": {},
   "outputs": [
    {
     "name": "stdout",
     "output_type": "stream",
     "text": [
      "1 aaaaaa\n",
      "2 aaaaaa\n",
      "3 aaaaaa\n",
      "4 aaaaaa\n",
      "5 aaaaaa\n"
     ]
    }
   ],
   "source": [
    "a=0\n",
    "while a<=10:\n",
    "    a+=1\n",
    "    if a==6:\n",
    "        break\n",
    "    print(a,\"aaaaaa\")"
   ]
  },
  {
   "cell_type": "code",
   "execution_count": 1,
   "metadata": {},
   "outputs": [
    {
     "name": "stdout",
     "output_type": "stream",
     "text": [
      "Notification has been send to  Umair\n",
      "Notification has been send to  Asim\n",
      "Notification hasn't been sent to  Ali\n",
      "Notification has been send to  Hussnain\n",
      "Notification has been send to  Asad\n",
      "Notification has been send to  Saad\n"
     ]
    }
   ],
   "source": [
    "namelist=[\"Umair\",\"Asim\",\"Ali\",\"Hussnain\",\"Asad\",\"Saad\"]\n",
    "i=0\n",
    "while i<len(namelist):\n",
    "    \n",
    "    if namelist[i]==\"Ali\":\n",
    "        print(\"Notification hasn't been sent to \",namelist[i] )\n",
    "        i+=1\n",
    "        continue\n",
    "    print(\"Notification has been send to \",namelist[i])\n",
    "    i+=1"
   ]
  },
  {
   "cell_type": "code",
   "execution_count": null,
   "metadata": {},
   "outputs": [
    {
     "name": "stdout",
     "output_type": "stream",
     "text": [
      "Enter a city name or q for quit:Umair\n",
      "it is the name in list\n",
      "Enter a city name or q for quit:Ali\n",
      "it is the name in list\n",
      "Enter a city name or q for quit:Hamid\n"
     ]
    }
   ],
   "source": [
    "namelist=[\"Umair\",\"Asim\",\"Ali\",\"Hussnain\",\"Asad\",\"Saad\"]\n",
    "user_input=''\n",
    "while user_input!='q':\n",
    "    user_input=input('Enter a city name or q for quit:')\n",
    "    if user_input!='q':\n",
    "        for name in namelist:\n",
    "            if user_input==name:\n",
    "                print ('it is the name in list')\n",
    "                    \n",
    "            "
   ]
  },
  {
   "cell_type": "code",
   "execution_count": null,
   "metadata": {},
   "outputs": [],
   "source": []
  },
  {
   "cell_type": "code",
   "execution_count": null,
   "metadata": {},
   "outputs": [],
   "source": []
  }
 ],
 "metadata": {
  "kernelspec": {
   "display_name": "Python 3",
   "language": "python",
   "name": "python3"
  },
  "language_info": {
   "codemirror_mode": {
    "name": "ipython",
    "version": 3
   },
   "file_extension": ".py",
   "mimetype": "text/x-python",
   "name": "python",
   "nbconvert_exporter": "python",
   "pygments_lexer": "ipython3",
   "version": "3.7.1"
  }
 },
 "nbformat": 4,
 "nbformat_minor": 2
}
